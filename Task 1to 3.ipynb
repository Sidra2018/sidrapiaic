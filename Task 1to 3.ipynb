{
 "cells": [
  {
   "cell_type": "code",
   "execution_count": 3,
   "metadata": {},
   "outputs": [
    {
     "name": "stdout",
     "output_type": "stream",
     "text": [
      "Enter radius of circle : 7\n",
      "Area of circle : 154.0\n"
     ]
    }
   ],
   "source": [
    "#TASK 1\n",
    "#AREA OF CIRCLE\n",
    "\n",
    "Radius = float(input(\"Enter radius of circle : \"))\n",
    "Area = 22/7 * (Radius **2)\n",
    "print(\"Area of circle : {0}\" .format(Area))"
   ]
  },
  {
   "cell_type": "code",
   "execution_count": 10,
   "metadata": {},
   "outputs": [
    {
     "name": "stdout",
     "output_type": "stream",
     "text": [
      "Enter any number: -.065\n",
      "Number is negative\n"
     ]
    }
   ],
   "source": [
    "#TASK 2\n",
    "#Number is positive,Negativeor zero\n",
    "\n",
    "Number = float(input(\"Enter any number: \"))\n",
    "if (Number>0):\n",
    "    print(\"Number is positive\")\n",
    "elif (Number<0):\n",
    "    print(\"Number is negative\")\n",
    "else:\n",
    "    print(\"Number is zero\")"
   ]
  },
  {
   "cell_type": "code",
   "execution_count": 12,
   "metadata": {},
   "outputs": [
    {
     "name": "stdout",
     "output_type": "stream",
     "text": [
      "Enter number : 5\n",
      "Number is positive\n"
     ]
    }
   ],
   "source": [
    "#TASK 2 (using nested if)\n",
    "num = float (input(\"Enter number : \"))\n",
    "if num >= 0:\n",
    "    if num == 0:\n",
    "        print (\"Number is zero\")\n",
    "    else:\n",
    "        print (\"Number is positive\")\n",
    "else:\n",
    "    print (\"Number is negative\")"
   ]
  },
  {
   "cell_type": "code",
   "execution_count": 23,
   "metadata": {},
   "outputs": [
    {
     "name": "stdout",
     "output_type": "stream",
     "text": [
      "Enter first number : 9\n",
      "Enter second number : 3\n",
      "Number 9.0 is divisible by another number 3.0\n"
     ]
    }
   ],
   "source": [
    "#TASK 3\n",
    "# Number is completely divisible by another number or not\n",
    "\n",
    "num1 = float(input(\"Enter first number : \"))\n",
    "num2 = float(input(\"Enter second number : \"))\n",
    "if (num1 % num2 == 0):\n",
    "    print(\"Number %s is divisible by another number %s\" %(num1,num2))\n",
    "else:\n",
    "    print (\"Number %s is NOT divisible by another number %s\" %(num1,num2))"
   ]
  },
  {
   "cell_type": "code",
   "execution_count": null,
   "metadata": {},
   "outputs": [],
   "source": []
  }
 ],
 "metadata": {
  "kernelspec": {
   "display_name": "Python 3",
   "language": "python",
   "name": "python3"
  },
  "language_info": {
   "codemirror_mode": {
    "name": "ipython",
    "version": 3
   },
   "file_extension": ".py",
   "mimetype": "text/x-python",
   "name": "python",
   "nbconvert_exporter": "python",
   "pygments_lexer": "ipython3",
   "version": "3.7.3"
  }
 },
 "nbformat": 4,
 "nbformat_minor": 2
}
